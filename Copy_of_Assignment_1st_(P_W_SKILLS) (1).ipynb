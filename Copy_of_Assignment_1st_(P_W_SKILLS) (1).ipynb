{
  "nbformat": 4,
  "nbformat_minor": 0,
  "metadata": {
    "colab": {
      "private_outputs": true,
      "provenance": [],
      "gpuType": "T4"
    },
    "kernelspec": {
      "name": "python3",
      "display_name": "Python 3"
    },
    "language_info": {
      "name": "python"
    },
    "gpuClass": "standard"
  },
  "cells": [
    {
      "cell_type": "markdown",
      "source": [
        "Q.1 (i) string"
      ],
      "metadata": {
        "id": "ASg3eNYGnQyw"
      }
    },
    {
      "cell_type": "code",
      "source": [
        "a=\"Data Science\"\n",
        "print(a)\n",
        "type(a)"
      ],
      "metadata": {
        "id": "JZolpUlanyf0"
      },
      "execution_count": null,
      "outputs": []
    },
    {
      "cell_type": "markdown",
      "source": [
        "(ii) list"
      ],
      "metadata": {
        "id": "_NrJK2WmoMNS"
      }
    },
    {
      "cell_type": "code",
      "source": [
        "l=[20, 50, \"DATA\", 5>3, 6%2, 5**2, 25/4]\n",
        "print(l)\n",
        "type(l)"
      ],
      "metadata": {
        "id": "QBMKIt4yoYWL"
      },
      "execution_count": null,
      "outputs": []
    },
    {
      "cell_type": "markdown",
      "source": [
        "(iii) float"
      ],
      "metadata": {
        "id": "tVw-1GPspIOS"
      }
    },
    {
      "cell_type": "code",
      "source": [
        "a=25\n",
        "b=4\n",
        "c=a/b\n",
        "print(c)\n",
        "type(c)"
      ],
      "metadata": {
        "id": "wVW8Gx3xpOxJ"
      },
      "execution_count": null,
      "outputs": []
    },
    {
      "cell_type": "code",
      "source": [
        "fruit=[\"apple\", \"banana\",\"orange\"]\n",
        "x, y, z=fruit\n",
        "print(x)\n",
        "print(y)\n",
        "print(z)\n",
        "type(fruit)"
      ],
      "metadata": {
        "id": "-A3hH-XGqdtD"
      },
      "execution_count": null,
      "outputs": []
    },
    {
      "cell_type": "markdown",
      "source": [
        "(iv) tuple"
      ],
      "metadata": {
        "id": "-sDENDuKtbS8"
      }
    },
    {
      "cell_type": "code",
      "source": [
        "tuple=(\"Data\",[8,4,6],(1,2,3,5.5))\n",
        "print(tuple)\n",
        "type(tuple)"
      ],
      "metadata": {
        "id": "CPBL5DyEtgzj"
      },
      "execution_count": null,
      "outputs": []
    },
    {
      "cell_type": "markdown",
      "source": [
        "Q.2 Data type of given variable"
      ],
      "metadata": {
        "id": "nnQfrEgguB5H"
      }
    },
    {
      "cell_type": "markdown",
      "source": [
        "(i) var1=\" \""
      ],
      "metadata": {
        "id": "uDwk1lspuP3L"
      }
    },
    {
      "cell_type": "code",
      "source": [
        "var1=\" \"\n",
        "type(var1)"
      ],
      "metadata": {
        "id": "QdvJ9IpgucUk"
      },
      "execution_count": null,
      "outputs": []
    },
    {
      "cell_type": "markdown",
      "source": [
        "(ii) var2='[DS, ML, python]'"
      ],
      "metadata": {
        "id": "YpA3DxLwuoF2"
      }
    },
    {
      "cell_type": "code",
      "source": [
        "var2='[DS, ML, python ]'\n",
        "type(var2)"
      ],
      "metadata": {
        "id": "0ZjMS3_Du66d"
      },
      "execution_count": null,
      "outputs": []
    },
    {
      "cell_type": "markdown",
      "source": [
        "\n",
        "(iii) var3=['DS', 'ML', 'python']"
      ],
      "metadata": {
        "id": "FBd0dcIFvKsD"
      }
    },
    {
      "cell_type": "code",
      "source": [
        "var3=['DS','ML', 'python']\n",
        "type(var3)"
      ],
      "metadata": {
        "id": "nUJQeVyyvixf"
      },
      "execution_count": null,
      "outputs": []
    },
    {
      "cell_type": "markdown",
      "source": [
        "(iv) var4=1"
      ],
      "metadata": {
        "id": "LPEMy0wcv0To"
      }
    },
    {
      "cell_type": "code",
      "source": [
        "var4=1\n",
        "type(var4)"
      ],
      "metadata": {
        "id": "zHi3UVxHv8Ij"
      },
      "execution_count": null,
      "outputs": []
    },
    {
      "cell_type": "markdown",
      "source": [
        "Q.3 Explain the operators"
      ],
      "metadata": {
        "id": "YTy8VPD8JMv-"
      }
    },
    {
      "cell_type": "markdown",
      "source": [
        "(i) / (Division Operator):- It is a division operator. It is used to devide any number. It givers both value Quatient and Rewmainder. It gives answer in float value."
      ],
      "metadata": {
        "id": "z-622NS6JZWc"
      }
    },
    {
      "cell_type": "code",
      "source": [
        "a=25\n",
        "b=4\n",
        "c=a/b\n",
        "print(c)\n",
        "type(c)"
      ],
      "metadata": {
        "id": "Lc34l24aJ1Os"
      },
      "execution_count": null,
      "outputs": []
    },
    {
      "cell_type": "markdown",
      "source": [
        "(ii) % (Modulas):- It is a Modulas operator. Its used to get Remainder. It gives us only int value."
      ],
      "metadata": {
        "id": "8LVM8wTaKAs7"
      }
    },
    {
      "cell_type": "code",
      "source": [
        "a=25\n",
        "b=3\n",
        "c=a%b\n",
        "print(c)\n",
        "type(c)"
      ],
      "metadata": {
        "id": "NzuR5APtKT0S"
      },
      "execution_count": null,
      "outputs": []
    },
    {
      "cell_type": "markdown",
      "source": [
        "(iii) // (Floor):- It is a floor division operator. It gives only quatient. It also devide any number and it gives us only int value."
      ],
      "metadata": {
        "id": "tjTmQL6fKmJk"
      }
    },
    {
      "cell_type": "code",
      "source": [
        "a=25\n",
        "b=3\n",
        "c=a//b\n",
        "print(c)\n",
        "type(c)"
      ],
      "metadata": {
        "id": "4wUItcUwK9wl"
      },
      "execution_count": null,
      "outputs": []
    },
    {
      "cell_type": "markdown",
      "source": [
        "** (Expopnention):- It is Exponention operator. It is used to raise the number on the left to the power of the exponent of the right.5**2, 5 is being raised to the 2nd powert means multiple by itself 2 times."
      ],
      "metadata": {
        "id": "GC2RwL-bLL6s"
      }
    },
    {
      "cell_type": "code",
      "source": [
        "a=5\n",
        "b=2\n",
        "c=a**b\n",
        "print(c)\n",
        "type(c)"
      ],
      "metadata": {
        "id": "JWgek0oeLrvO"
      },
      "execution_count": null,
      "outputs": []
    },
    {
      "cell_type": "markdown",
      "source": [
        "Q.4 create a list of length 10 and use the for loop and print the element & its data type."
      ],
      "metadata": {
        "id": "baEPjxDzL3mR"
      }
    },
    {
      "cell_type": "code",
      "source": [
        "l=[5, 4**3, 2, \"DATA\", 6, 5>4, 15, 20%6, 100, 5==5]\n",
        "for i in l:\n",
        "  print(l)\n",
        "type(l)"
      ],
      "metadata": {
        "id": "b3LUYkfDMSP2"
      },
      "execution_count": null,
      "outputs": []
    },
    {
      "cell_type": "code",
      "source": [
        "l=[5, 4**3, 2, \"DATA\", 6, 5>4, 15, 20%6, 100, 5==5]\n",
        "for i in range (len(l)):\n",
        "  res=[ ]\n",
        "  res.append((l[i],i))\n",
        "  print(\"List of items\")\n",
        "  print(res)\n",
        "type(res)"
      ],
      "metadata": {
        "id": "4SKLT0NsMyD7"
      },
      "execution_count": null,
      "outputs": []
    },
    {
      "cell_type": "code",
      "source": [],
      "metadata": {
        "id": "a2Zwj0CQS2mm"
      },
      "execution_count": null,
      "outputs": []
    },
    {
      "cell_type": "markdown",
      "source": [
        "Q.7 Mutable and immutable data with example.\n",
        "    Ans: - Mutable object that allows you to change its values without changing its identity while immutable object doesn't allow changes in its value.\n",
        "  for example: In list you can change any type of data but in string you don't change any letter.\n",
        "  Such as l=[5', \"Data\", 25] in this example you can change any data like \"Data\" if we want to change from Data to Tata that we can give command to python is that print(l[1])=\"Tata\". so this type of data called mutable data but in string we cannot as so as for example s=[\"MAN\"] in this exaqmple cyou can't replace to any letter such as if we wasnt to chane a to e then when we give command to python then will not change and python show error as- print(s(l[1])) that python doesn't chage. so this type of data called immutable data."
      ],
      "metadata": {
        "id": "O4Xr9KJBN_8M"
      }
    },
    {
      "cell_type": "code",
      "source": [
        "l=[5, \"Data\", 25]\n",
        "print(l[1])"
      ],
      "metadata": {
        "id": "cUSUfXlNlQ6R"
      },
      "execution_count": null,
      "outputs": []
    },
    {
      "cell_type": "code",
      "source": [
        "l=[5, \"Data\", 25]\n",
        "l[1]=\"Tata\"\n",
        "print(l[1])"
      ],
      "metadata": {
        "id": "5tsysYjzmRov"
      },
      "execution_count": null,
      "outputs": []
    },
    {
      "cell_type": "code",
      "source": [
        "s=[\"MAN\"]\n",
        "print(s)"
      ],
      "metadata": {
        "id": "_t78SSmKnA1o"
      },
      "execution_count": null,
      "outputs": []
    },
    {
      "cell_type": "code",
      "source": [
        "s=[\"MAN\"]\n",
        "s[1]=\"E\"\n",
        "print(s)"
      ],
      "metadata": {
        "id": "FUr8EluHnWsl"
      },
      "execution_count": null,
      "outputs": []
    },
    {
      "cell_type": "markdown",
      "source": [
        "Q.6 list of 25 int type of data and use for loop and if-else condition print if the element is disvisible by 3 or not."
      ],
      "metadata": {
        "id": "uu_fhctToKCn"
      }
    },
    {
      "cell_type": "code",
      "source": [
        "l=[5, 10, 20, 50, 60, 45, 78, 25, 40, 50, 60, 70, 15, 25, 45, 80, 75, 20, 30, 90, 95, 85, 65, 34, 10]\n",
        "for i in l:\n",
        "  if i%3==0:\n",
        "    print(\"Number is divisible by 3\")\n",
        "  else:\n",
        "    print(\"Number is not divisible by 3\")"
      ],
      "metadata": {
        "id": "KxfvGTaJpqRS"
      },
      "execution_count": null,
      "outputs": []
    },
    {
      "cell_type": "markdown",
      "source": [
        "Q.5 using while loop and verify that a is purely divisible by b and how many time divisible."
      ],
      "metadata": {
        "id": "48sCiRHl6yVk"
      }
    },
    {
      "cell_type": "code",
      "source": [
        "n=int(input(\"Enter the number\"))\n",
        "m=int(input(\"Enter the number\"))\n",
        "div=[5, 8]\n",
        "while(n<m):\n",
        "  if n==5:\n",
        "    continue\n",
        "  if n%div[0]==0 and n%div[1]==0:\n",
        "    print(n, 'the number is divisible for both 5 and 8')\n",
        "  elif n%div[0]==0:\n",
        "    print (n, 'the number is divisible for 5')\n",
        "  elif n%div[1]==0:\n",
        "    print(n, 'the number is divisible for 8')\n",
        "else:\n",
        "  print(n, 'is divisival for neither 5 nor 8')"
      ],
      "metadata": {
        "id": "iuy86QnY7G6_"
      },
      "execution_count": null,
      "outputs": []
    },
    {
      "cell_type": "code",
      "source": [
        "n=int(input(\"Enter the number\"))\n",
        "m=int(input(\"Enter the number\"))\n",
        "div=[5, 8]\n",
        "while(n<m):\n",
        "  if n==5:\n",
        "    continue\n",
        "  if n%div[0]==0 and n%div[1]==0:\n",
        "    print(n, 'the number is divisible for both 5 and 8')\n",
        "  elif n%div[0]==0:\n",
        "    print (n, 'the number is divisible for 5')\n",
        "  elif n%div[1]==0:\n",
        "    print(n, 'the number is divisible for 8')\n",
        "else:\n",
        "  print(n, 'is divisival for neither 5 nor 8')"
      ],
      "metadata": {
        "id": "BQEH9mwB7Cx3"
      },
      "execution_count": null,
      "outputs": []
    }
  ]
}